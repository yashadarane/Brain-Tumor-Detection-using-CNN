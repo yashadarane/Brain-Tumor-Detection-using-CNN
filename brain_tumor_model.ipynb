{
  "nbformat": 4,
  "nbformat_minor": 0,
  "metadata": {
    "colab": {
      "provenance": [],
      "gpuType": "T4"
    },
    "kernelspec": {
      "name": "python3",
      "display_name": "Python 3"
    },
    "language_info": {
      "name": "python"
    },
    "accelerator": "GPU"
  },
  "cells": [
    {
      "cell_type": "code",
      "source": [
        "import os\n",
        "import json\n",
        "\n",
        "# Move kaggle.json to the right directory\n",
        "!mkdir -p ~/.kaggle\n",
        "!mv kaggle.json ~/.kaggle/\n",
        "\n",
        "# Set correct permissions\n",
        "!chmod 600 ~/.kaggle/kaggle.json\n",
        "\n",
        "# Check if Kaggle API is working\n",
        "!kaggle datasets list"
      ],
      "metadata": {
        "id": "OT3KPY9JtfHI",
        "collapsed": true
      },
      "execution_count": null,
      "outputs": []
    },
    {
      "cell_type": "code",
      "source": [
        "!kaggle datasets download -d masoudnickparvar/brain-tumor-mri-dataset"
      ],
      "metadata": {
        "colab": {
          "base_uri": "https://localhost:8080/"
        },
        "id": "inx148norHrA",
        "outputId": "a159d0a7-ab78-4a72-dda7-0e26e8aa9121",
        "collapsed": true
      },
      "execution_count": null,
      "outputs": [
        {
          "output_type": "stream",
          "name": "stdout",
          "text": [
            "Dataset URL: https://www.kaggle.com/datasets/masoudnickparvar/brain-tumor-mri-dataset\n",
            "License(s): CC0-1.0\n"
          ]
        }
      ]
    },
    {
      "cell_type": "code",
      "source": [
        "import zipfile\n",
        "\n",
        "with zipfile.ZipFile(\"brain-tumor-mri-dataset.zip\", 'r') as zip_ref:\n",
        "    zip_ref.extractall(\"brain_tumor_data\")\n",
        "\n",
        "# Check extracted files\n",
        "os.listdir(\"brain_tumor_data\")\n",
        "train_dir = os.path.join(\"brain_tumor_data\", \"Training\")\n",
        "test_dir = os.path.join(\"brain_tumor_data\", \"Testing\")"
      ],
      "metadata": {
        "id": "jARsBsdmrNmb"
      },
      "execution_count": null,
      "outputs": []
    },
    {
      "cell_type": "code",
      "source": [
        "from tensorflow.keras.preprocessing.image import ImageDataGenerator\n",
        "\n",
        "#Image Preprocessing & Augmentation\n",
        "image_size=(224,224)\n",
        "btch_size=32\n",
        "\n",
        "#Training Dataset\n",
        "train_datagen=ImageDataGenerator(\n",
        "    rescale=1./255,\n",
        "    rotation_range=20,\n",
        "    width_shift_range=0.1,\n",
        "    height_shift_range=0.1,\n",
        "    shear_range=0.1,\n",
        "    zoom_range=0.1,\n",
        "    horizontal_flip=True,\n",
        "    fill_mode='nearest')\n",
        "\n",
        "#Testing Dataset\n",
        "test_datagen=ImageDataGenerator(rescale=1./255)\n",
        "\n",
        "#Load Images from Dataset\n",
        "train_generator=train_datagen.flow_from_directory(\n",
        "    train_dir,\n",
        "    target_size=image_size,\n",
        "    batch_size=btch_size,\n",
        "    class_mode=\"categorical\"\n",
        ")\n",
        "\n",
        "test_generator=test_datagen.flow_from_directory(\n",
        "    test_dir,\n",
        "    target_size=image_size,\n",
        "    batch_size=btch_size,\n",
        "    class_mode=\"categorical\"\n",
        ")"
      ],
      "metadata": {
        "colab": {
          "base_uri": "https://localhost:8080/"
        },
        "id": "DeAg2UgkrTMW",
        "outputId": "04a44aee-7804-47f2-f13b-54bb62e80e9f"
      },
      "execution_count": null,
      "outputs": [
        {
          "output_type": "stream",
          "name": "stdout",
          "text": [
            "Found 5712 images belonging to 4 classes.\n",
            "Found 1311 images belonging to 4 classes.\n"
          ]
        }
      ]
    },
    {
      "cell_type": "code",
      "source": [
        "import tensorflow as tf\n",
        "from tensorflow.keras.applications import VGG16\n",
        "from tensorflow.keras.models import Model\n",
        "from tensorflow.keras.layers import Dense, Dropout, Flatten\n",
        "\n",
        "#Load VGG16 Model\n",
        "base_model=VGG16(weights=\"imagenet\", include_top=False, input_shape=(224,224,3))\n",
        "\n",
        "#Freeze Base Model Layers\n",
        "for layer in base_model.layers:\n",
        "  layer.trainable=False\n",
        "\n",
        "#Add Custom Classification Layers\n",
        "x=Flatten()(base_model.output) #Converts the feature maps from CNN to a 1D vector.\n",
        "x=Dense(512,activation=\"relu\")(x) #Adds a fully connected layer with 512 neurons using ReLU activation.\n",
        "x=Dropout(0.5)(x) #Drops 50% of neurons randomly to prevent overfitting.\n",
        "x=Dense(256, activation=\"relu\")(x) #Adds another fully connected layer with 256 neurons.\n",
        "x=Dense(4, activation=\"softmax\")(x) #The final output layer with 4 neurons (one for each tumor type) using Softmax activation\n",
        "\n",
        "#Create Final Model\n",
        "model=Model(inputs=base_model.input,outputs=x) #Combines the VGG16 feature extractor with the new fully connected layers.\n",
        "\n",
        "#Compile Model\n",
        "model.compile(optimizer=\"adam\",loss=\"categorical_crossentropy\", metrics=[\"accuracy\"])\n",
        "#optimizer=\"adam\" Uses the Adam optimizer, which adapts learning rates automatically.\n",
        "#loss=\"categorical_crossentropy\" Since we have 4 classes, we use categorical cross-entropy loss.\n",
        "#metrics=[\"accuracy\"] Tracks accuracy during training.\n",
        "\n",
        "#Train Model\n",
        "history=model.fit(\n",
        "    train_generator,\n",
        "    epochs=10,\n",
        "    validation_data=test_generator\n",
        ")\n",
        "\n",
        "#Save Model\n",
        "model.save(\"brain_tumor_vgg16_model.keras\")"
      ],
      "metadata": {
        "colab": {
          "base_uri": "https://localhost:8080/"
        },
        "id": "4BQL6XVhrWUx",
        "outputId": "772f5f3c-742a-474d-c42f-8534e63bcf5b"
      },
      "execution_count": null,
      "outputs": [
        {
          "output_type": "stream",
          "name": "stdout",
          "text": [
            "Epoch 1/10\n",
            "\u001b[1m179/179\u001b[0m \u001b[32m━━━━━━━━━━━━━━━━━━━━\u001b[0m\u001b[37m\u001b[0m \u001b[1m89s\u001b[0m 482ms/step - accuracy: 0.5953 - loss: 1.4670 - val_accuracy: 0.8024 - val_loss: 0.5063\n",
            "Epoch 2/10\n",
            "\u001b[1m179/179\u001b[0m \u001b[32m━━━━━━━━━━━━━━━━━━━━\u001b[0m\u001b[37m\u001b[0m \u001b[1m84s\u001b[0m 469ms/step - accuracy: 0.7798 - loss: 0.5790 - val_accuracy: 0.8215 - val_loss: 0.4550\n",
            "Epoch 3/10\n",
            "\u001b[1m179/179\u001b[0m \u001b[32m━━━━━━━━━━━━━━━━━━━━\u001b[0m\u001b[37m\u001b[0m \u001b[1m84s\u001b[0m 469ms/step - accuracy: 0.7636 - loss: 0.6045 - val_accuracy: 0.7834 - val_loss: 0.5266\n",
            "Epoch 4/10\n",
            "\u001b[1m179/179\u001b[0m \u001b[32m━━━━━━━━━━━━━━━━━━━━\u001b[0m\u001b[37m\u001b[0m \u001b[1m85s\u001b[0m 477ms/step - accuracy: 0.7646 - loss: 0.5818 - val_accuracy: 0.7788 - val_loss: 0.6094\n",
            "Epoch 5/10\n",
            "\u001b[1m179/179\u001b[0m \u001b[32m━━━━━━━━━━━━━━━━━━━━\u001b[0m\u001b[37m\u001b[0m \u001b[1m85s\u001b[0m 473ms/step - accuracy: 0.7756 - loss: 0.5450 - val_accuracy: 0.7941 - val_loss: 0.4930\n",
            "Epoch 6/10\n",
            "\u001b[1m179/179\u001b[0m \u001b[32m━━━━━━━━━━━━━━━━━━━━\u001b[0m\u001b[37m\u001b[0m \u001b[1m84s\u001b[0m 468ms/step - accuracy: 0.7945 - loss: 0.5047 - val_accuracy: 0.8330 - val_loss: 0.4130\n",
            "Epoch 7/10\n",
            "\u001b[1m179/179\u001b[0m \u001b[32m━━━━━━━━━━━━━━━━━━━━\u001b[0m\u001b[37m\u001b[0m \u001b[1m84s\u001b[0m 469ms/step - accuracy: 0.7822 - loss: 0.5246 - val_accuracy: 0.8268 - val_loss: 0.4256\n",
            "Epoch 8/10\n",
            "\u001b[1m179/179\u001b[0m \u001b[32m━━━━━━━━━━━━━━━━━━━━\u001b[0m\u001b[37m\u001b[0m \u001b[1m86s\u001b[0m 481ms/step - accuracy: 0.8099 - loss: 0.4742 - val_accuracy: 0.8482 - val_loss: 0.3831\n",
            "Epoch 9/10\n",
            "\u001b[1m179/179\u001b[0m \u001b[32m━━━━━━━━━━━━━━━━━━━━\u001b[0m\u001b[37m\u001b[0m \u001b[1m84s\u001b[0m 471ms/step - accuracy: 0.8168 - loss: 0.4586 - val_accuracy: 0.8459 - val_loss: 0.3814\n",
            "Epoch 10/10\n",
            "\u001b[1m179/179\u001b[0m \u001b[32m━━━━━━━━━━━━━━━━━━━━\u001b[0m\u001b[37m\u001b[0m \u001b[1m84s\u001b[0m 469ms/step - accuracy: 0.8063 - loss: 0.4786 - val_accuracy: 0.8619 - val_loss: 0.3561\n"
          ]
        }
      ]
    },
    {
      "cell_type": "code",
      "source": [
        "# Print Final Training & Validation Accuracy\n",
        "final_train_acc = history.history['accuracy'][-1]  # Last epoch's training accuracy\n",
        "final_val_acc = history.history['val_accuracy'][-1]  # Last epoch's validation accuracy\n",
        "\n",
        "print(f\"Final Training Accuracy: {final_train_acc * 100:.2f}%\")\n",
        "print(f\"Final Validation Accuracy: {final_val_acc * 100:.2f}%\")"
      ],
      "metadata": {
        "colab": {
          "base_uri": "https://localhost:8080/"
        },
        "id": "a6mzlL_ouG-w",
        "outputId": "a66b9b86-9603-4760-e771-f8da13f30e7a"
      },
      "execution_count": null,
      "outputs": [
        {
          "output_type": "stream",
          "name": "stdout",
          "text": [
            "Final Training Accuracy: 81.53%\n",
            "Final Validation Accuracy: 86.19%\n"
          ]
        }
      ]
    },
    {
      "cell_type": "code",
      "source": [
        "import matplotlib.pyplot as plt\n",
        "\n",
        "# Plot Accuracy & Loss\n",
        "def plot_history(history):\n",
        "    plt.figure(figsize=(12, 5))\n",
        "\n",
        "    # Accuracy\n",
        "    plt.subplot(1, 2, 1)\n",
        "    plt.plot(history.history['accuracy'], label='Train Accuracy')\n",
        "    plt.plot(history.history['val_accuracy'], label='Test Accuracy')\n",
        "    plt.xlabel('Epochs')\n",
        "    plt.ylabel('Accuracy')\n",
        "    plt.legend()\n",
        "    plt.title('Model Accuracy')\n",
        "\n",
        "    # Loss\n",
        "    plt.subplot(1, 2, 2)\n",
        "    plt.plot(history.history['loss'], label='Train Loss')\n",
        "    plt.plot(history.history['val_loss'], label='Test Loss')\n",
        "    plt.xlabel('Epochs')\n",
        "    plt.ylabel('Loss')\n",
        "    plt.legend()\n",
        "    plt.title('Model Loss')\n",
        "\n",
        "    plt.show()\n",
        "\n",
        "plot_history(history)\n"
      ],
      "metadata": {
        "colab": {
          "base_uri": "https://localhost:8080/",
          "height": 412
        },
        "id": "GnH04yA4sKhs",
        "outputId": "fb19ee3a-8d3b-4795-e61c-0f6699439458"
      },
      "execution_count": null,
      "outputs": [
        {
          "output_type": "display_data",
          "data": {
            "text/plain": [
              "<Figure size 1200x500 with 2 Axes>"
            ],
            "image/png": "[encoded data removed]"
          },
          "metadata": {}
        }
      ]
    },
    {
      "cell_type": "code",
      "source": [
        "!pip install gradio"
      ],
      "metadata": {
        "collapsed": true,
        "id": "vCYkXzzXRojc",
        "colab": {
          "base_uri": "https://localhost:8080/"
        },
        "outputId": "574aef9a-1763-4ae5-cb19-17cefdad2a0b"
      },
      "execution_count": null,
      "outputs": [
        {
          "output_type": "stream",
          "name": "stdout",
          "text": [
            "Requirement already satisfied: gradio in /usr/local/lib/python3.11/dist-packages (5.23.1)\n",
            "Requirement already satisfied: aiofiles<24.0,>=22.0 in /usr/local/lib/python3.11/dist-packages (from gradio) (23.2.1)\n",
            "Requirement already satisfied: anyio<5.0,>=3.0 in /usr/local/lib/python3.11/dist-packages (from gradio) (4.9.0)\n",
            "Requirement already satisfied: fastapi<1.0,>=0.115.2 in /usr/local/lib/python3.11/dist-packages (from gradio) (0.115.12)\n",
            "Requirement already satisfied: ffmpy in /usr/local/lib/python3.11/dist-packages (from gradio) (0.5.0)\n",
            "Requirement already satisfied: gradio-client==1.8.0 in /usr/local/lib/python3.11/dist-packages (from gradio) (1.8.0)\n",
            "Requirement already satisfied: groovy~=0.1 in /usr/local/lib/python3.11/dist-packages (from gradio) (0.1.2)\n",
            "Requirement already satisfied: httpx>=0.24.1 in /usr/local/lib/python3.11/dist-packages (from gradio) (0.28.1)\n",
            "Requirement already satisfied: huggingface-hub>=0.28.1 in /usr/local/lib/python3.11/dist-packages (from gradio) (0.29.3)\n",
            "Requirement already satisfied: jinja2<4.0 in /usr/local/lib/python3.11/dist-packages (from gradio) (3.1.6)\n",
            "Requirement already satisfied: markupsafe<4.0,>=2.0 in /usr/local/lib/python3.11/dist-packages (from gradio) (3.0.2)\n",
            "Requirement already satisfied: numpy<3.0,>=1.0 in /usr/local/lib/python3.11/dist-packages (from gradio) (2.0.2)\n",
            "Requirement already satisfied: orjson~=3.0 in /usr/local/lib/python3.11/dist-packages (from gradio) (3.10.15)\n",
            "Requirement already satisfied: packaging in /usr/local/lib/python3.11/dist-packages (from gradio) (24.2)\n",
            "Requirement already satisfied: pandas<3.0,>=1.0 in /usr/local/lib/python3.11/dist-packages (from gradio) (2.2.2)\n",
            "Requirement already satisfied: pillow<12.0,>=8.0 in /usr/local/lib/python3.11/dist-packages (from gradio) (11.1.0)\n",
            "Requirement already satisfied: pydantic>=2.0 in /usr/local/lib/python3.11/dist-packages (from gradio) (2.10.6)\n",
            "Requirement already satisfied: pydub in /usr/local/lib/python3.11/dist-packages (from gradio) (0.25.1)\n",
            "Requirement already satisfied: python-multipart>=0.0.18 in /usr/local/lib/python3.11/dist-packages (from gradio) (0.0.20)\n",
            "Requirement already satisfied: pyyaml<7.0,>=5.0 in /usr/local/lib/python3.11/dist-packages (from gradio) (6.0.2)\n",
            "Requirement already satisfied: ruff>=0.9.3 in /usr/local/lib/python3.11/dist-packages (from gradio) (0.11.2)\n",
            "Requirement already satisfied: safehttpx<0.2.0,>=0.1.6 in /usr/local/lib/python3.11/dist-packages (from gradio) (0.1.6)\n",
            "Requirement already satisfied: semantic-version~=2.0 in /usr/local/lib/python3.11/dist-packages (from gradio) (2.10.0)\n",
            "Requirement already satisfied: starlette<1.0,>=0.40.0 in /usr/local/lib/python3.11/dist-packages (from gradio) (0.46.1)\n",
            "Requirement already satisfied: tomlkit<0.14.0,>=0.12.0 in /usr/local/lib/python3.11/dist-packages (from gradio) (0.13.2)\n",
            "Requirement already satisfied: typer<1.0,>=0.12 in /usr/local/lib/python3.11/dist-packages (from gradio) (0.15.2)\n",
            "Requirement already satisfied: typing-extensions~=4.0 in /usr/local/lib/python3.11/dist-packages (from gradio) (4.12.2)\n",
            "Requirement already satisfied: uvicorn>=0.14.0 in /usr/local/lib/python3.11/dist-packages (from gradio) (0.34.0)\n",
            "Requirement already satisfied: fsspec in /usr/local/lib/python3.11/dist-packages (from gradio-client==1.8.0->gradio) (2025.3.0)\n",
            "Requirement already satisfied: websockets<16.0,>=10.0 in /usr/local/lib/python3.11/dist-packages (from gradio-client==1.8.0->gradio) (15.0.1)\n",
            "Requirement already satisfied: idna>=2.8 in /usr/local/lib/python3.11/dist-packages (from anyio<5.0,>=3.0->gradio) (3.10)\n",
            "Requirement already satisfied: sniffio>=1.1 in /usr/local/lib/python3.11/dist-packages (from anyio<5.0,>=3.0->gradio) (1.3.1)\n",
            "Requirement already satisfied: certifi in /usr/local/lib/python3.11/dist-packages (from httpx>=0.24.1->gradio) (2025.1.31)\n",
            "Requirement already satisfied: httpcore==1.* in /usr/local/lib/python3.11/dist-packages (from httpx>=0.24.1->gradio) (1.0.7)\n",
            "Requirement already satisfied: h11<0.15,>=0.13 in /usr/local/lib/python3.11/dist-packages (from httpcore==1.*->httpx>=0.24.1->gradio) (0.14.0)\n",
            "Requirement already satisfied: filelock in /usr/local/lib/python3.11/dist-packages (from huggingface-hub>=0.28.1->gradio) (3.18.0)\n",
            "Requirement already satisfied: requests in /usr/local/lib/python3.11/dist-packages (from huggingface-hub>=0.28.1->gradio) (2.32.3)\n",
            "Requirement already satisfied: tqdm>=4.42.1 in /usr/local/lib/python3.11/dist-packages (from huggingface-hub>=0.28.1->gradio) (4.67.1)\n",
            "Requirement already satisfied: python-dateutil>=2.8.2 in /usr/local/lib/python3.11/dist-packages (from pandas<3.0,>=1.0->gradio) (2.8.2)\n",
            "Requirement already satisfied: pytz>=2020.1 in /usr/local/lib/python3.11/dist-packages (from pandas<3.0,>=1.0->gradio) (2025.1)\n",
            "Requirement already satisfied: tzdata>=2022.7 in /usr/local/lib/python3.11/dist-packages (from pandas<3.0,>=1.0->gradio) (2025.1)\n",
            "Requirement already satisfied: annotated-types>=0.6.0 in /usr/local/lib/python3.11/dist-packages (from pydantic>=2.0->gradio) (0.7.0)\n",
            "Requirement already satisfied: pydantic-core==2.27.2 in /usr/local/lib/python3.11/dist-packages (from pydantic>=2.0->gradio) (2.27.2)\n",
            "Requirement already satisfied: click>=8.0.0 in /usr/local/lib/python3.11/dist-packages (from typer<1.0,>=0.12->gradio) (8.1.8)\n",
            "Requirement already satisfied: shellingham>=1.3.0 in /usr/local/lib/python3.11/dist-packages (from typer<1.0,>=0.12->gradio) (1.5.4)\n",
            "Requirement already satisfied: rich>=10.11.0 in /usr/local/lib/python3.11/dist-packages (from typer<1.0,>=0.12->gradio) (13.9.4)\n",
            "Requirement already satisfied: six>=1.5 in /usr/local/lib/python3.11/dist-packages (from python-dateutil>=2.8.2->pandas<3.0,>=1.0->gradio) (1.17.0)\n",
            "Requirement already satisfied: markdown-it-py>=2.2.0 in /usr/local/lib/python3.11/dist-packages (from rich>=10.11.0->typer<1.0,>=0.12->gradio) (3.0.0)\n",
            "Requirement already satisfied: pygments<3.0.0,>=2.13.0 in /usr/local/lib/python3.11/dist-packages (from rich>=10.11.0->typer<1.0,>=0.12->gradio) (2.18.0)\n",
            "Requirement already satisfied: charset-normalizer<4,>=2 in /usr/local/lib/python3.11/dist-packages (from requests->huggingface-hub>=0.28.1->gradio) (3.4.1)\n",
            "Requirement already satisfied: urllib3<3,>=1.21.1 in /usr/local/lib/python3.11/dist-packages (from requests->huggingface-hub>=0.28.1->gradio) (2.3.0)\n",
            "Requirement already satisfied: mdurl~=0.1 in /usr/local/lib/python3.11/dist-packages (from markdown-it-py>=2.2.0->rich>=10.11.0->typer<1.0,>=0.12->gradio) (0.1.2)\n"
          ]
        }
      ]
    },
    {
      "cell_type": "code",
      "source": [
        "import gradio as gr\n",
        "import numpy as np\n",
        "import random\n",
        "import os\n",
        "import cv2\n",
        "import tensorflow as tf\n",
        "import matplotlib.pyplot as plt\n",
        "from tensorflow.keras.preprocessing import image\n",
        "from tensorflow.keras.models import load_model\n",
        "from PIL import Image\n",
        "\n",
        "# Define test dataset path\n",
        "test_dir = \"/content/brain_tumor_data/Testing\"\n",
        "\n",
        "# Load trained VGG16 model\n",
        "model = load_model(\"/content/brain_tumor_vgg16_model.keras\")\n",
        "\n",
        "# Get class labels\n",
        "class_labels = sorted(os.listdir(test_dir))\n",
        "\n",
        "# Function to generate Grad-CAM heatmap\n",
        "def generate_gradcam(img_array, model, class_index):\n",
        "    grad_model = tf.keras.models.Model([model.inputs], [model.get_layer(\"block5_conv3\").output, model.output])\n",
        "\n",
        "    with tf.GradientTape() as tape:\n",
        "        conv_outputs, predictions = grad_model(img_array)\n",
        "        loss = predictions[:, class_index]\n",
        "\n",
        "    grads = tape.gradient(loss, conv_outputs)[0]\n",
        "    pooled_grads = tf.reduce_mean(grads, axis=(0, 1, 2))\n",
        "\n",
        "    pooled_grads = pooled_grads.numpy()\n",
        "    conv_outputs = conv_outputs.numpy()\n",
        "\n",
        "    heatmap = np.mean(conv_outputs * pooled_grads, axis=-1)[0]\n",
        "    heatmap = np.maximum(heatmap, 0)\n",
        "    heatmap /= np.max(heatmap)\n",
        "\n",
        "    heatmap = cv2.resize(heatmap, (224, 224))\n",
        "\n",
        "    return heatmap\n",
        "\n",
        "# Function to generate Saliency Map\n",
        "def generate_saliency_map(img_array, model, class_index):\n",
        "    img_tensor = tf.convert_to_tensor(img_array, dtype=tf.float32)\n",
        "    with tf.GradientTape() as tape:\n",
        "        tape.watch(img_tensor)\n",
        "        prediction = model(img_tensor)\n",
        "        loss = prediction[:, class_index]\n",
        "\n",
        "    grads = tape.gradient(loss, img_tensor)\n",
        "    saliency = tf.reduce_max(tf.abs(grads), axis=-1)[0].numpy()\n",
        "\n",
        "    saliency = (saliency - saliency.min()) / (saliency.max() - saliency.min())\n",
        "\n",
        "    return saliency\n",
        "\n",
        "# Function to randomly pick an image and make a prediction\n",
        "def predict_random_image():\n",
        "    try:\n",
        "        # Randomly select a class folder\n",
        "        random_class = random.choice(class_labels)\n",
        "        class_path = os.path.join(test_dir, random_class)\n",
        "\n",
        "        # Randomly select an image from that class\n",
        "        random_image = random.choice(os.listdir(class_path))\n",
        "        image_path = os.path.join(class_path, random_image)\n",
        "\n",
        "        # Load and preprocess the image\n",
        "        img = Image.open(image_path).convert(\"RGB\")\n",
        "        img_resized = img.resize((224, 224))\n",
        "        img_array = image.img_to_array(img_resized)\n",
        "        img_array = np.expand_dims(img_array, axis=0) / 255.0\n",
        "\n",
        "        # Predict using the model\n",
        "        prediction = model.predict(img_array)[0]\n",
        "        predicted_class = class_labels[np.argmax(prediction)]\n",
        "        confidence = np.max(prediction) * 100\n",
        "\n",
        "        # Generate Grad-CAM heatmap\n",
        "        heatmap = generate_gradcam(img_array, model, np.argmax(prediction))\n",
        "        heatmap_colored = cv2.applyColorMap(np.uint8(255 * heatmap), cv2.COLORMAP_JET)\n",
        "        superimposed_img = cv2.addWeighted(np.array(img_resized), 0.6, heatmap_colored, 0.4, 0)\n",
        "        gradcam_img = Image.fromarray(superimposed_img)\n",
        "\n",
        "        # Generate Saliency Map\n",
        "        saliency_map = generate_saliency_map(img_array, model, np.argmax(prediction))\n",
        "\n",
        "        # Convert Saliency Map to Image\n",
        "        plt.figure(figsize=(5, 5))\n",
        "        plt.imshow(saliency_map, cmap=\"jet\")\n",
        "        plt.axis(\"off\")\n",
        "        plt.xticks([])\n",
        "        plt.yticks([])\n",
        "        saliency_path = \"/content/saliency_map.png\"\n",
        "        plt.savefig(saliency_path,bbox_inches='tight', pad_inches=0, transparent=True)\n",
        "        plt.close()\n",
        "\n",
        "        # Generate prediction text\n",
        "        result_text = f\"Predicted Tumor Type: {predicted_class}\\nConfidence: {confidence:.2f}%\\nActual Tumor Type: {random_class}\"\n",
        "\n",
        "        # Create bar chart for confidence scores\n",
        "        plt.figure(figsize=(6, 4))\n",
        "        plt.bar(class_labels, prediction, color=\"darkgreen\", alpha=0.7)\n",
        "        plt.xlabel(\"Tumor Type\")\n",
        "        plt.ylabel(\"Prediction Confidence\")\n",
        "        plt.title(\"Model Confidence Levels\")\n",
        "        plt.xticks(rotation=30)\n",
        "        plt.tight_layout()\n",
        "        chart_path = \"/content/pred_chart.png\"\n",
        "        plt.savefig(chart_path)\n",
        "        plt.close()\n",
        "\n",
        "        return img, gradcam_img, saliency_path, result_text, chart_path\n",
        "\n",
        "    except Exception as e:\n",
        "        return None, None, None, f\"Error: {str(e)}\", None\n",
        "\n",
        "# Define custom CSS for styling\n",
        "custom_css = \"\"\"\n",
        "h1 { text-align: center; color: white; font-size: 36px; font-weight: bold; }\n",
        "p { text-align: center; font-size: 18px; color: #3C3C3C; }\n",
        "button { background-color: #212d2e; color: white; font-size: 18px; padding: 12px 24px; border-radius: 12px; border: none; transition: 0.3s; }\n",
        "img { width: auto; height: auto; max-width: 100%; max-height: 100%; border: 4px solid #3C3C3C; border-radius: 12px; box-shadow: 0px 4px 10px rgba(0, 0, 0, 0.2); }\n",
        "\"\"\"\n",
        "\n",
        "with gr.Blocks(css=custom_css) as interface:\n",
        "    gr.Markdown(\"# Brain Tumor Detection with VGG16\", elem_id=\"title\")\n",
        "    gr.Markdown(\"### This AI model randomly selects an MRI scan from the test dataset and predicts its category.\")\n",
        "\n",
        "    with gr.Row():\n",
        "        img_display = gr.Image(label=\"Original MRI Scan\", width=400, height=400)\n",
        "        gradcam_display = gr.Image(label=\"Grad-CAM Heatmap\", width=400, height=400)\n",
        "        saliency_display = gr.Image(label=\"Saliency Map\", width=400, height=400)\n",
        "\n",
        "    with gr.Row():  # Place Prediction Results and Chart Side by Side\n",
        "        result_text = gr.Textbox(label=\"Prediction Result\", lines=4)\n",
        "        confidence_chart = gr.Image(label=\"Prediction Confidence Chart\", width=500, height=400)\n",
        "\n",
        "    with gr.Row():\n",
        "        predict_button = gr.Button(\"Generate Prediction\")\n",
        "\n",
        "    # Link button to function\n",
        "    predict_button.click(\n",
        "        predict_random_image,\n",
        "        inputs=[],\n",
        "        outputs=[img_display, gradcam_display, saliency_display, result_text, confidence_chart]\n",
        "    )\n",
        "\n",
        "# Launch the Gradio app\n",
        "interface.launch(share=True)"
      ],
      "metadata": {
        "id": "iEETIeF3Rqg_"
      },
      "execution_count": null,
      "outputs": []
    }
  ]
}